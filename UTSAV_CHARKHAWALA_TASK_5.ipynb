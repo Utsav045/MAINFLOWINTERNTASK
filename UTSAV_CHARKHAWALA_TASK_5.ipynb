{
 "cells": [
  {
   "cell_type": "markdown",
   "id": "7ae3a94c-1136-477d-b079-52c9868d3327",
   "metadata": {},
   "source": [
    "# TASK 5 \n",
    "Predict whether a student will pass or fail based on their study hours and attendance."
   ]
  },
  {
   "cell_type": "code",
   "execution_count": null,
   "id": "37ce21ed-0203-4641-a2bd-2590397d5447",
   "metadata": {},
   "outputs": [
    {
     "name": "stdout",
     "output_type": "stream",
     "text": [
      "Id                         0\n",
      "ProductId                  0\n",
      "UserId                     0\n",
      "ProfileName               26\n",
      "HelpfulnessNumerator       0\n",
      "HelpfulnessDenominator     0\n",
      "Score                      0\n",
      "Time                       0\n",
      "Summary                   27\n",
      "Text                       0\n",
      "dtype: int64\n"
     ]
    }
   ],
   "source": [
    "import pandas as pd\n",
    "import seaborn as sns\n",
    "import matplotlib.pyplot as plt\n",
    "\n",
    "# Load the dataset\n",
    "file_path = \"Reviews.csv\"\n",
    "df = pd.read_csv(file_path)\n",
    "\n",
    "# Check for missing values\n",
    "print(df.isnull().sum())\n",
    "\n",
    "# Drop rows with missing values in relevant columns\n",
    "df_cleaned = df.dropna(subset=['Score'])\n",
    "\n",
    "# Convert 'Score' to categorical if needed\n",
    "df_cleaned['Score'] = df_cleaned['Score'].astype(str)\n",
    "\n",
    "# Select only numerical columns for pairplot\n",
    "numeric_columns = ['HelpfulnessNumerator', 'HelpfulnessDenominator', 'Score']\n",
    "df_numeric = df_cleaned[numeric_columns]\n",
    "\n",
    "# Generate pairplot\n",
    "sns.pairplot(df_numeric, hue='Score', palette='husl')\n",
    "plt.title(\"Pairplot of Review Scores and Helpfulness Metrics\")\n",
    "plt.show()"
   ]
  },
  {
   "cell_type": "code",
   "execution_count": null,
   "id": "cb6da55f-e3e1-48ef-97a7-9b3b76282009",
   "metadata": {},
   "outputs": [],
   "source": []
  }
 ],
 "metadata": {
  "kernelspec": {
   "display_name": "Python [conda env:base] *",
   "language": "python",
   "name": "conda-base-py"
  },
  "language_info": {
   "codemirror_mode": {
    "name": "ipython",
    "version": 3
   },
   "file_extension": ".py",
   "mimetype": "text/x-python",
   "name": "python",
   "nbconvert_exporter": "python",
   "pygments_lexer": "ipython3",
   "version": "3.12.7"
  }
 },
 "nbformat": 4,
 "nbformat_minor": 5
}
