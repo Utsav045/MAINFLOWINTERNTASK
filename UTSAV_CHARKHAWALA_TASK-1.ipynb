{
 "cells": [
  {
   "cell_type": "markdown",
   "id": "34d7e0a4-b2b3-4163-94d3-225f0f6e6ec1",
   "metadata": {},
   "source": [
    "#Student Performance Dataset Analysis\n",
    "\n",
    "## Objective\n",
    "Analyze a dataset of student exam scores to uncover key insights, answer specific questions, and present findings using Python.\n",
    "\n",
    "## Workflow:\n",
    "1. Data Loading\n",
    "2. Data \n",
    "3. Data Cleaning\n",
    "4. Data Analysis\n",
    "5. Data Visualization\n",
    "\n",
    "## Dataset Overview:\n",
    "- Dataset: Student Performance Dataset (`student-mat.csv`)\n",
    "- Key Columns:\n",
    "  - `G1`, `G2`, `G3`: Grades for three terms.\n",
    "  - `studytime`: Weekly hours spent studying.\n",
    "  - `sex`: Gender of students (Male/Female).\n",
    "\n",
    "## Key Questions:\n",
    "1. What is the average score in math (G3)?\n",
    "2. How many students scored above 15 in their final grade (G3)?\n",
    "3. Is there a correlation between study time and the final grade (G3)?\n",
    "4. Which gender has a higher average final grade (G3)?\n",
    "\n",
    "## Deliverables:\n",
    "- Detailed analysis with Python code.\n",
    "- Visualizations for better understanding.\n",
    "- A concise summary of key insights.\n"
   ]
  },
  {
   "cell_type": "markdown",
   "id": "4da50c1f-fc7d-436b-853f-a8e7e8ed99e1",
   "metadata": {},
   "source": [
    "# Import Libraries"
   ]
  },
  {
   "cell_type": "code",
   "execution_count": 6,
   "id": "645e62b9-73dd-4e57-9a38-97e7915b81de",
   "metadata": {},
   "outputs": [],
   "source": [
    "# Importing necessary libraries\n",
    "import pandas as pd\n",
    "import numpy as np\n",
    "import matplotlib.pyplot as plt\n",
    "import seaborn as sns\n",
    "\n",
    "# Ensure inline plots in Jupyter Notebook\n",
    "%matplotlib inline\n"
   ]
  },
  {
   "cell_type": "markdown",
   "id": "d8047217-d6f9-4b54-84f2-4e55b0aed500",
   "metadata": {},
   "source": [
    "# Step 1: Data Loading"
   ]
  },
  {
   "cell_type": "code",
   "execution_count": 55,
   "id": "9a61f43d-defa-4289-b425-27cb4ca540ab",
   "metadata": {},
   "outputs": [
    {
     "name": "stdout",
     "output_type": "stream",
     "text": [
      "First few rows of the dataset:\n",
      "  school sex  age address famsize Pstatus  Medu  Fedu     Mjob      Fjob  ...  \\\n",
      "0     GP   F   18       U     GT3       A     4     4  at_home   teacher  ...   \n",
      "1     GP   F   17       U     GT3       T     1     1  at_home     other  ...   \n",
      "2     GP   F   15       U     LE3       T     1     1  at_home     other  ...   \n",
      "3     GP   F   15       U     GT3       T     4     2   health  services  ...   \n",
      "4     GP   F   16       U     GT3       T     3     3    other     other  ...   \n",
      "\n",
      "  famrel freetime  goout  Dalc  Walc health absences  G1  G2  G3  \n",
      "0      4        3      4     1     1      3        6   5   6   6  \n",
      "1      5        3      3     1     1      3        4   5   5   6  \n",
      "2      4        3      2     2     3      3       10   7   8  10  \n",
      "3      3        2      2     1     1      5        2  15  14  15  \n",
      "4      4        3      2     1     2      5        4   6  10  10  \n",
      "\n",
      "[5 rows x 33 columns]\n"
     ]
    }
   ],
   "source": [
    "## Step 1: Data Loading\n",
    "\n",
    "# - Load the dataset using pandas.\n",
    "# - Preview the first few rows of the dataset to understand its structure.\n",
    "\n",
    "# Load the dataset\n",
    "file_path = 'student-mat - student-mat.csv'  # Update this path if the file is located elsewhere\n",
    "data = pd.read_csv(file_path)\n",
    "\n",
    "# Display the first few rows of the dataset\n",
    "print(\"First few rows of the dataset:\")\n",
    "print(data.head())\n"
   ]
  },
  {
   "cell_type": "markdown",
   "id": "7a38a3dd-d4b0-4c0f-9edd-0da953098e84",
   "metadata": {},
   "source": [
    "# Step 2: Data Exploration"
   ]
  },
  {
   "cell_type": "code",
   "execution_count": 57,
   "id": "a764d550-96ea-469f-8f58-045022ec5372",
   "metadata": {},
   "outputs": [
    {
     "name": "stdout",
     "output_type": "stream",
     "text": [
      "\n",
      "Missing values in each column:\n",
      "school        0\n",
      "sex           0\n",
      "age           0\n",
      "address       0\n",
      "famsize       0\n",
      "Pstatus       0\n",
      "Medu          0\n",
      "Fedu          0\n",
      "Mjob          0\n",
      "Fjob          0\n",
      "reason        0\n",
      "guardian      0\n",
      "traveltime    0\n",
      "studytime     0\n",
      "failures      0\n",
      "schoolsup     0\n",
      "famsup        0\n",
      "paid          0\n",
      "activities    0\n",
      "nursery       0\n",
      "higher        0\n",
      "internet      0\n",
      "romantic      0\n",
      "famrel        0\n",
      "freetime      0\n",
      "goout         0\n",
      "Dalc          0\n",
      "Walc          0\n",
      "health        0\n",
      "absences      0\n",
      "G1            0\n",
      "G2            0\n",
      "G3            0\n",
      "dtype: int64\n",
      "\n",
      "Column data types:\n",
      "school        object\n",
      "sex           object\n",
      "age            int64\n",
      "address       object\n",
      "famsize       object\n",
      "Pstatus       object\n",
      "Medu           int64\n",
      "Fedu           int64\n",
      "Mjob          object\n",
      "Fjob          object\n",
      "reason        object\n",
      "guardian      object\n",
      "traveltime     int64\n",
      "studytime      int64\n",
      "failures       int64\n",
      "schoolsup     object\n",
      "famsup        object\n",
      "paid          object\n",
      "activities    object\n",
      "nursery       object\n",
      "higher        object\n",
      "internet      object\n",
      "romantic      object\n",
      "famrel         int64\n",
      "freetime       int64\n",
      "goout          int64\n",
      "Dalc           int64\n",
      "Walc           int64\n",
      "health         int64\n",
      "absences       int64\n",
      "G1             int64\n",
      "G2             int64\n",
      "G3             int64\n",
      "dtype: object\n",
      "\n",
      "Dataset size (rows, columns):\n",
      "(395, 33)\n"
     ]
    }
   ],
   "source": [
    "## Step 2: Data Exploration\n",
    "\n",
    "# - Check for missing values to identify incomplete data.\n",
    "# - Display column data types for better understanding of the dataset.\n",
    "# - Determine the size of the dataset to understand its scale.\n",
    "\n",
    "# Check for missing values\n",
    "print(\"\\nMissing values in each column:\")\n",
    "print(data.isnull().sum())\n",
    "\n",
    "# Display column data types\n",
    "print(\"\\nColumn data types:\")\n",
    "print(data.dtypes)\n",
    "\n",
    "# Understand the dataset's size\n",
    "print(\"\\nDataset size (rows, columns):\")\n",
    "print(data.shape)\n"
   ]
  },
  {
   "cell_type": "markdown",
   "id": "2905aa49-4493-4f23-b68e-718515686fd7",
   "metadata": {},
   "source": [
    "# Step 3: Data Cleaning"
   ]
  },
  {
   "cell_type": "code",
   "execution_count": 59,
   "id": "687acc56-e7b7-487b-b529-668d63626d8c",
   "metadata": {},
   "outputs": [
    {
     "name": "stdout",
     "output_type": "stream",
     "text": [
      "\n",
      "Data after cleaning:\n",
      "<class 'pandas.core.frame.DataFrame'>\n",
      "RangeIndex: 395 entries, 0 to 394\n",
      "Data columns (total 33 columns):\n",
      " #   Column      Non-Null Count  Dtype \n",
      "---  ------      --------------  ----- \n",
      " 0   school      395 non-null    object\n",
      " 1   sex         395 non-null    object\n",
      " 2   age         395 non-null    int64 \n",
      " 3   address     395 non-null    object\n",
      " 4   famsize     395 non-null    object\n",
      " 5   Pstatus     395 non-null    object\n",
      " 6   Medu        395 non-null    int64 \n",
      " 7   Fedu        395 non-null    int64 \n",
      " 8   Mjob        395 non-null    object\n",
      " 9   Fjob        395 non-null    object\n",
      " 10  reason      395 non-null    object\n",
      " 11  guardian    395 non-null    object\n",
      " 12  traveltime  395 non-null    int64 \n",
      " 13  studytime   395 non-null    int64 \n",
      " 14  failures    395 non-null    int64 \n",
      " 15  schoolsup   395 non-null    object\n",
      " 16  famsup      395 non-null    object\n",
      " 17  paid        395 non-null    object\n",
      " 18  activities  395 non-null    object\n",
      " 19  nursery     395 non-null    object\n",
      " 20  higher      395 non-null    object\n",
      " 21  internet    395 non-null    object\n",
      " 22  romantic    395 non-null    object\n",
      " 23  famrel      395 non-null    int64 \n",
      " 24  freetime    395 non-null    int64 \n",
      " 25  goout       395 non-null    int64 \n",
      " 26  Dalc        395 non-null    int64 \n",
      " 27  Walc        395 non-null    int64 \n",
      " 28  health      395 non-null    int64 \n",
      " 29  absences    395 non-null    int64 \n",
      " 30  G1          395 non-null    int64 \n",
      " 31  G2          395 non-null    int64 \n",
      " 32  G3          395 non-null    int64 \n",
      "dtypes: int64(16), object(17)\n",
      "memory usage: 102.0+ KB\n",
      "None\n"
     ]
    }
   ],
   "source": [
    "## Step 3: Data Cleaning\n",
    "\n",
    "# - Replace missing values with the median to ensure data completeness.\n",
    "# - Remove duplicate entries for accuracy.\n",
    "\n",
    "# Handle missing values (replace with median)\n",
    "data.fillna(data.median(numeric_only=True), inplace=True)\n",
    "\n",
    "# Remove duplicate entries\n",
    "data.drop_duplicates(inplace=True)\n",
    "\n",
    "print(\"\\nData after cleaning:\")\n",
    "print(data.info())"
   ]
  },
  {
   "cell_type": "markdown",
   "id": "acc591cc-e48f-4fda-95c9-caa109aa175d",
   "metadata": {},
   "source": [
    "# Step 4: Data Analysis"
   ]
  },
  {
   "cell_type": "code",
   "execution_count": 61,
   "id": "ef0d2d5f-2b7f-428f-840a-f1eafae7d164",
   "metadata": {},
   "outputs": [
    {
     "name": "stdout",
     "output_type": "stream",
     "text": [
      "Average final grade (G3): 10.42\n",
      "Number of students scoring above 15 in final grade (G3): 40\n",
      "Correlation between study time and final grade (G3): 0.10\n",
      "Average final grade by gender:\n",
      "sex\n",
      "F     9.966346\n",
      "M    10.914439\n",
      "Name: G3, dtype: float64\n",
      "Gender with a higher average final grade: M\n"
     ]
    }
   ],
   "source": [
    "## Step 4: Data Analysis\n",
    "\n",
    "### Key Questions:\n",
    "# 1. What is the average score in math (G3)?\n",
    "# 2. How many students scored above 15 in their final grade (G3)?\n",
    "# 3. Is there a correlation between study time and the final grade (G3)?\n",
    "# 4. Which gender has a higher average final grade (G3)?\n",
    "\n",
    "# 1. Average score in math (G3)\n",
    "average_score = data['G3'].mean()\n",
    "print(f\"Average final grade (G3): {average_score:.2f}\")\n",
    "\n",
    "# 2. Count of students scoring above 15 in final grade (G3)\n",
    "above_15_count = (data['G3'] > 15).sum()\n",
    "print(f\"Number of students scoring above 15 in final grade (G3): {above_15_count}\")\n",
    "\n",
    "# 3. Correlation between study time and final grade\n",
    "correlation = data['studytime'].corr(data['G3'])\n",
    "print(f\"Correlation between study time and final grade (G3): {correlation:.2f}\")\n",
    "\n",
    "# 4. Gender with a higher average final grade\n",
    "gender_average = data.groupby('sex')['G3'].mean()\n",
    "print(\"Average final grade by gender:\")\n",
    "print(gender_average)\n",
    "\n",
    "# Determine which gender has a higher average grade\n",
    "higher_avg_gender = gender_average.idxmax()\n",
    "print(f\"Gender with a higher average final grade: {higher_avg_gender}\")\n"
   ]
  },
  {
   "cell_type": "markdown",
   "id": "b0804b29-1e15-4ee8-9672-553aa0d93174",
   "metadata": {},
   "source": [
    "# Step 5: Data Visualization"
   ]
  },
  {
   "cell_type": "code",
   "execution_count": 52,
   "id": "52912451-baef-479e-9626-f8425e362b19",
   "metadata": {},
   "outputs": [
    {
     "ename": "KeyError",
     "evalue": "'G3'",
     "output_type": "error",
     "traceback": [
      "\u001b[1;31m---------------------------------------------------------------------------\u001b[0m",
      "\u001b[1;31mKeyError\u001b[0m                                  Traceback (most recent call last)",
      "File \u001b[1;32mD:\\anaconda\\Lib\\site-packages\\pandas\\core\\indexes\\base.py:3805\u001b[0m, in \u001b[0;36mIndex.get_loc\u001b[1;34m(self, key)\u001b[0m\n\u001b[0;32m   3804\u001b[0m \u001b[38;5;28;01mtry\u001b[39;00m:\n\u001b[1;32m-> 3805\u001b[0m     \u001b[38;5;28;01mreturn\u001b[39;00m \u001b[38;5;28mself\u001b[39m\u001b[38;5;241m.\u001b[39m_engine\u001b[38;5;241m.\u001b[39mget_loc(casted_key)\n\u001b[0;32m   3806\u001b[0m \u001b[38;5;28;01mexcept\u001b[39;00m \u001b[38;5;167;01mKeyError\u001b[39;00m \u001b[38;5;28;01mas\u001b[39;00m err:\n",
      "File \u001b[1;32mindex.pyx:167\u001b[0m, in \u001b[0;36mpandas._libs.index.IndexEngine.get_loc\u001b[1;34m()\u001b[0m\n",
      "File \u001b[1;32mindex.pyx:196\u001b[0m, in \u001b[0;36mpandas._libs.index.IndexEngine.get_loc\u001b[1;34m()\u001b[0m\n",
      "File \u001b[1;32mpandas\\\\_libs\\\\hashtable_class_helper.pxi:7081\u001b[0m, in \u001b[0;36mpandas._libs.hashtable.PyObjectHashTable.get_item\u001b[1;34m()\u001b[0m\n",
      "File \u001b[1;32mpandas\\\\_libs\\\\hashtable_class_helper.pxi:7089\u001b[0m, in \u001b[0;36mpandas._libs.hashtable.PyObjectHashTable.get_item\u001b[1;34m()\u001b[0m\n",
      "\u001b[1;31mKeyError\u001b[0m: 'G3'",
      "\nThe above exception was the direct cause of the following exception:\n",
      "\u001b[1;31mKeyError\u001b[0m                                  Traceback (most recent call last)",
      "Cell \u001b[1;32mIn[52], line 10\u001b[0m\n\u001b[0;32m      1\u001b[0m \u001b[38;5;66;03m## Step 5: Data Visualization\u001b[39;00m\n\u001b[0;32m      2\u001b[0m \n\u001b[0;32m      3\u001b[0m \u001b[38;5;66;03m### Objectives:\u001b[39;00m\n\u001b[1;32m   (...)\u001b[0m\n\u001b[0;32m      7\u001b[0m \n\u001b[0;32m      8\u001b[0m \u001b[38;5;66;03m# 1. Histogram of Final Grades (G3)\u001b[39;00m\n\u001b[0;32m      9\u001b[0m plt\u001b[38;5;241m.\u001b[39mfigure(figsize\u001b[38;5;241m=\u001b[39m(\u001b[38;5;241m8\u001b[39m, \u001b[38;5;241m6\u001b[39m))\n\u001b[1;32m---> 10\u001b[0m plt\u001b[38;5;241m.\u001b[39mhist(data[\u001b[38;5;124m'\u001b[39m\u001b[38;5;124mG3\u001b[39m\u001b[38;5;124m'\u001b[39m], bins\u001b[38;5;241m=\u001b[39m\u001b[38;5;241m10\u001b[39m, color\u001b[38;5;241m=\u001b[39m\u001b[38;5;124m'\u001b[39m\u001b[38;5;124mblue\u001b[39m\u001b[38;5;124m'\u001b[39m, edgecolor\u001b[38;5;241m=\u001b[39m\u001b[38;5;124m'\u001b[39m\u001b[38;5;124mblack\u001b[39m\u001b[38;5;124m'\u001b[39m, alpha\u001b[38;5;241m=\u001b[39m\u001b[38;5;241m0.7\u001b[39m)\n\u001b[0;32m     11\u001b[0m plt\u001b[38;5;241m.\u001b[39mtitle(\u001b[38;5;124m'\u001b[39m\u001b[38;5;124mHistogram of Final Grades (G3)\u001b[39m\u001b[38;5;124m'\u001b[39m)\n\u001b[0;32m     12\u001b[0m plt\u001b[38;5;241m.\u001b[39mxlabel(\u001b[38;5;124m'\u001b[39m\u001b[38;5;124mFinal Grade (G3)\u001b[39m\u001b[38;5;124m'\u001b[39m)\n",
      "File \u001b[1;32mD:\\anaconda\\Lib\\site-packages\\pandas\\core\\frame.py:4102\u001b[0m, in \u001b[0;36mDataFrame.__getitem__\u001b[1;34m(self, key)\u001b[0m\n\u001b[0;32m   4100\u001b[0m \u001b[38;5;28;01mif\u001b[39;00m \u001b[38;5;28mself\u001b[39m\u001b[38;5;241m.\u001b[39mcolumns\u001b[38;5;241m.\u001b[39mnlevels \u001b[38;5;241m>\u001b[39m \u001b[38;5;241m1\u001b[39m:\n\u001b[0;32m   4101\u001b[0m     \u001b[38;5;28;01mreturn\u001b[39;00m \u001b[38;5;28mself\u001b[39m\u001b[38;5;241m.\u001b[39m_getitem_multilevel(key)\n\u001b[1;32m-> 4102\u001b[0m indexer \u001b[38;5;241m=\u001b[39m \u001b[38;5;28mself\u001b[39m\u001b[38;5;241m.\u001b[39mcolumns\u001b[38;5;241m.\u001b[39mget_loc(key)\n\u001b[0;32m   4103\u001b[0m \u001b[38;5;28;01mif\u001b[39;00m is_integer(indexer):\n\u001b[0;32m   4104\u001b[0m     indexer \u001b[38;5;241m=\u001b[39m [indexer]\n",
      "File \u001b[1;32mD:\\anaconda\\Lib\\site-packages\\pandas\\core\\indexes\\base.py:3812\u001b[0m, in \u001b[0;36mIndex.get_loc\u001b[1;34m(self, key)\u001b[0m\n\u001b[0;32m   3807\u001b[0m     \u001b[38;5;28;01mif\u001b[39;00m \u001b[38;5;28misinstance\u001b[39m(casted_key, \u001b[38;5;28mslice\u001b[39m) \u001b[38;5;129;01mor\u001b[39;00m (\n\u001b[0;32m   3808\u001b[0m         \u001b[38;5;28misinstance\u001b[39m(casted_key, abc\u001b[38;5;241m.\u001b[39mIterable)\n\u001b[0;32m   3809\u001b[0m         \u001b[38;5;129;01mand\u001b[39;00m \u001b[38;5;28many\u001b[39m(\u001b[38;5;28misinstance\u001b[39m(x, \u001b[38;5;28mslice\u001b[39m) \u001b[38;5;28;01mfor\u001b[39;00m x \u001b[38;5;129;01min\u001b[39;00m casted_key)\n\u001b[0;32m   3810\u001b[0m     ):\n\u001b[0;32m   3811\u001b[0m         \u001b[38;5;28;01mraise\u001b[39;00m InvalidIndexError(key)\n\u001b[1;32m-> 3812\u001b[0m     \u001b[38;5;28;01mraise\u001b[39;00m \u001b[38;5;167;01mKeyError\u001b[39;00m(key) \u001b[38;5;28;01mfrom\u001b[39;00m \u001b[38;5;21;01merr\u001b[39;00m\n\u001b[0;32m   3813\u001b[0m \u001b[38;5;28;01mexcept\u001b[39;00m \u001b[38;5;167;01mTypeError\u001b[39;00m:\n\u001b[0;32m   3814\u001b[0m     \u001b[38;5;66;03m# If we have a listlike key, _check_indexing_error will raise\u001b[39;00m\n\u001b[0;32m   3815\u001b[0m     \u001b[38;5;66;03m#  InvalidIndexError. Otherwise we fall through and re-raise\u001b[39;00m\n\u001b[0;32m   3816\u001b[0m     \u001b[38;5;66;03m#  the TypeError.\u001b[39;00m\n\u001b[0;32m   3817\u001b[0m     \u001b[38;5;28mself\u001b[39m\u001b[38;5;241m.\u001b[39m_check_indexing_error(key)\n",
      "\u001b[1;31mKeyError\u001b[0m: 'G3'"
     ]
    }
   ],
   "source": [
    "## Step 5: Data Visualization\n",
    "\n",
    "### Objectives:\n",
    "# 1. Histogram Visualize the distribution of final grades (G3).\n",
    "# 2. Scatter Plot :  Analyze the relationship between study time and final grades (G3).\n",
    "# 3. Bar Chart : Compare average final grades by gender.\n",
    "\n",
    "# 1. Histogram of Final Grades (G3)\n",
    "plt.figure(figsize=(8, 6))\n",
    "plt.hist(data['G3'], bins=10, color='blue', edgecolor='black', alpha=0.7)\n",
    "plt.title('Histogram of Final Grades (G3)')\n",
    "plt.xlabel('Final Grade (G3)')\n",
    "plt.ylabel('Frequency')\n",
    "plt.show()\n",
    "\n",
    "# 2. Scatter Plot Between Study Time and Final Grade\n",
    "plt.figure(figsize=(8, 6))\n",
    "sns.scatterplot(x=data['studytime'], y=data['G3'], hue=data['sex'], alpha=0.7)\n",
    "plt.title('Study Time vs Final Grade')\n",
    "plt.xlabel('Study Time (hours/week)')\n",
    "plt.ylabel('Final Grade (G3)')\n",
    "plt.legend(title='Gender')\n",
    "plt.show()\n",
    "\n",
    "# 3. Bar Chart Comparing Average Scores of Male and Female Students\n",
    "gender_average.plot(kind='bar', color=['blue', 'pink'], figsize=(8, 6))\n",
    "plt.title('Average Final Grade by Gender')\n",
    "plt.xlabel('Gender')\n",
    "plt.ylabel('Average Final Grade (G3)')\n",
    "plt.xticks(rotation=0)\n",
    "plt.show()"
   ]
  },
  {
   "cell_type": "markdown",
   "id": "ebf31ca0-945c-445c-8393-550271aa1c4c",
   "metadata": {},
   "source": [
    "# Summary\n",
    "\n",
    "## Summary of Findings\n",
    "\n",
    "1. **Average Final Grade**:\n",
    "   - The average final grade (G3) is [Calculated Value].\n",
    "\n",
    "2. **Students Scoring Above 15**:\n",
    "   - [Calculated Value] students scored above 15 in their final grades.\n",
    "\n",
    "3. **Correlation Between Study Time and Final Grade**:\n",
    "   - The correlation coefficient is [Calculated Value], indicating [weak/strong positive/negative] relationship.\n",
    "\n",
    "4. **Gender With Higher Average Grade**:\n",
    "   - [Gender] has a higher average final grade, with an average score of [Value].\n",
    "\n",
    "### Visual Insights:\n",
    "- **Histogram**: The distribution of grades shows [e.g., most students scored between X and Y].\n",
    "- **Scatter Plot**: The relationship between study time and grades shows [e.g., no significant correlation].\n",
    "- **Bar Chart**: Female students scored higher than male students on average.\n"
   ]
  },
  {
   "cell_type": "code",
   "execution_count": null,
   "id": "e3bc19e4-2e69-4e11-ba7b-1f7de7583f8d",
   "metadata": {},
   "outputs": [],
   "source": []
  }
 ],
 "metadata": {
  "kernelspec": {
   "display_name": "Python [conda env:base] *",
   "language": "python",
   "name": "conda-base-py"
  },
  "language_info": {
   "codemirror_mode": {
    "name": "ipython",
    "version": 3
   },
   "file_extension": ".py",
   "mimetype": "text/x-python",
   "name": "python",
   "nbconvert_exporter": "python",
   "pygments_lexer": "ipython3",
   "version": "3.12.7"
  }
 },
 "nbformat": 4,
 "nbformat_minor": 5
}
