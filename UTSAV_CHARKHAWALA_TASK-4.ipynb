{
 "cells": [
  {
   "cell_type": "markdown",
   "id": "83919019-a77a-452b-9717-1b2a4d476d96",
   "metadata": {},
   "source": [
    "# TASK 4\n",
    "Build a regression model to predict house prices based on various features using\n",
    "linear regression."
   ]
  },
  {
   "cell_type": "markdown",
   "id": "dc4bea13-40b6-4620-9177-ae85fa5a0c4c",
   "metadata": {},
   "source": [
    "# "
   ]
  },
  {
   "cell_type": "code",
   "execution_count": 6,
   "id": "f6bfd19f-217a-4c22-a3a1-257e2a0d112c",
   "metadata": {},
   "outputs": [],
   "source": [
    "# Step 1: Import the necessary libraries\n",
    "import pandas as pd\n",
    "import numpy as np\n",
    "from sklearn.model_selection import train_test_split\n",
    "from sklearn.linear_model import LinearRegression\n",
    "from sklearn.metrics import mean_squared_error, r2_score\n",
    "\n",
    "# Step 2: Load the data\n",
    "# For this example, let's create a sample dataset\n",
    "data = {\n",
    "    'Square_Feet': [1500, 2300, 1200, 1700, 2000, 1800],\n",
    "    'Num_Bedrooms': [3, 4, 2, 3, 3, 3],\n",
    "    'Num_Bathrooms': [2, 3, 1, 2, 2, 2],\n",
    "    'Age_of_Home': [10, 5, 20, 15, 8, 12],\n",
    "    'Price': [300000, 400000, 200000, 350000, 370000, 340000]\n",
    "}\n",
    "df = pd.DataFrame(data)\n",
    "\n",
    "# Step 3: Define the features (X) and the target variable (y)\n",
    "X = df[['Square_Feet', 'Num_Bedrooms', 'Num_Bathrooms', 'Age_of_Home']]\n",
    "y = df['Price']\n",
    "\n",
    "# Step 4: Split the data into training and testing sets\n",
    "X_train, X_test, y_train, y_test = train_test_split(X, y, test_size=0.2, random_state=42)\n",
    "\n",
    "# Step 5: Create and train the Linear Regression model\n",
    "model = LinearRegression()\n",
    "model.fit(X_train, y_train)\n",
    "\n",
    "# Step 6: Make predictions on the test set\n",
    "y_pred = model.predict(X_test)\n",
    "\n",
    "# Step 7: Evaluate the model\n",
    "mse = mean_squared_error(y_test, y_pred)\n",
    "r2 = r2_score(y_test, y_pred)\n",
    "\n",
    "print(f'Mean Squared Error: {mse}')\n",
    "print(f'R^2 Score: {r2}')"
   ]
  }
 ],
 "metadata": {
  "kernelspec": {
   "display_name": "Python [conda env:base] *",
   "language": "python",
   "name": "conda-base-py"
  },
  "language_info": {
   "codemirror_mode": {
    "name": "ipython",
    "version": 3
   },
   "file_extension": ".py",
   "mimetype": "text/x-python",
   "name": "python",
   "nbconvert_exporter": "python",
   "pygments_lexer": "ipython3",
   "version": "3.12.7"
  }
 },
 "nbformat": 4,
 "nbformat_minor": 5
}
