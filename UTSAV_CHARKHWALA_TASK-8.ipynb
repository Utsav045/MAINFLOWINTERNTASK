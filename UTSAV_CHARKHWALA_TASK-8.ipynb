{
 "cells": [
  {
   "cell_type": "markdown",
   "id": "7b7e227d-3fa3-4d61-a547-4c3fb7301040",
   "metadata": {},
   "source": [
    "# TASK 8\n",
    "Improve model performance through feature engineering And hyperparameter tuning And Detect fraudulent transactions based on patterns in financial dat"
   ]
  },
  {
   "cell_type": "code",
   "execution_count": null,
   "id": "fd93f387-b561-412f-8799-13817009593a",
   "metadata": {},
   "outputs": [],
   "source": []
  }
 ],
 "metadata": {
  "kernelspec": {
   "display_name": "Python [conda env:base] *",
   "language": "python",
   "name": "conda-base-py"
  },
  "language_info": {
   "codemirror_mode": {
    "name": "ipython",
    "version": 3
   },
   "file_extension": ".py",
   "mimetype": "text/x-python",
   "name": "python",
   "nbconvert_exporter": "python",
   "pygments_lexer": "ipython3",
   "version": "3.12.7"
  }
 },
 "nbformat": 4,
 "nbformat_minor": 5
}
